{
 "cells": [
  {
   "cell_type": "markdown",
   "id": "b724101f-5df2-4ea9-aa77-71149e2a93e6",
   "metadata": {},
   "source": [
    "## 1.API"
   ]
  },
  {
   "cell_type": "code",
   "execution_count": null,
   "id": "9a78884d-5291-465b-9966-b60eb6fecd7b",
   "metadata": {},
   "outputs": [],
   "source": [
    "APIs are mechanisms that enable two software components to communicate with each other using a set of definitions and \n",
    "protocols. For example, the weather bureau’s software system contains daily weather data. The weather app on your phone\n",
    "“talks” to this system via APIs and shows you daily weather updates on your phone."
   ]
  },
  {
   "cell_type": "code",
   "execution_count": null,
   "id": "240998e0-a021-4826-b097-0041a05ea3ac",
   "metadata": {},
   "outputs": [],
   "source": [
    "-APIs are used in web applications to connect user-facing front ends with critical back-end functionality and data.\n",
    "-APIs are used to deliver material by streaming services such as Spotify and Netflix.\n",
    "-APIs are used by automakers such as Tesla to provide software upgrades. Others utilize APIs to make automotive data available \n",
    "to third parties.\n"
   ]
  },
  {
   "cell_type": "markdown",
   "id": "0a620d1d-cf9b-4aac-9e17-94981c97188e",
   "metadata": {},
   "source": [
    "## 2.advantages and disadvantages "
   ]
  },
  {
   "cell_type": "markdown",
   "id": "cb2c393a-3b8f-4f5f-8147-7eeee8eafec2",
   "metadata": {},
   "source": [
    "### advantages"
   ]
  },
  {
   "cell_type": "code",
   "execution_count": null,
   "id": "d9ff4826-9584-4312-b90a-39fb692c417f",
   "metadata": {},
   "outputs": [],
   "source": [
    "-API supports traditional CRUD (Create Read Update Delete) actions as it works with HTTP verbs GET, PUT, POST, and DELETE.\n",
    "-API helps you to expose service data to the browser\n",
    "-It is based on HTTP, which is easy to define, expose in REST-full way.\n"
   ]
  },
  {
   "cell_type": "markdown",
   "id": "af41af84-7423-45bb-be7c-16ce7d9c732e",
   "metadata": {},
   "source": [
    "### diadvantges"
   ]
  },
  {
   "cell_type": "code",
   "execution_count": null,
   "id": "2e468416-42ae-4a03-97cf-e94bc6dafdb3",
   "metadata": {},
   "outputs": [],
   "source": [
    "-Creating API is a very time-consuming process\n",
    "-A fixed scale is necessary\n",
    "-Imprecise boundary delineation\n",
    "-To create API, programming knowledge is necessary\n",
    "-Maintenance cost is very high\n",
    "-It can crash when testing API\n"
   ]
  },
  {
   "cell_type": "markdown",
   "id": "9e79057d-af7a-44f6-997c-7ad0bcde1205",
   "metadata": {},
   "source": [
    "## 3.web API"
   ]
  },
  {
   "cell_type": "code",
   "execution_count": null,
   "id": "593d4f6e-b171-4759-8517-5825d585840e",
   "metadata": {},
   "outputs": [],
   "source": [
    "A Web API is an application programming interface for the Web. A Browser API can extend the functionality of a web browser. A \n",
    "Server API can extend the functionality of a web server."
   ]
  },
  {
   "cell_type": "markdown",
   "id": "ad734dc1-127f-4571-8c5e-032f80f860ec",
   "metadata": {},
   "source": [
    "### difference between API and WEB API"
   ]
  },
  {
   "cell_type": "markdown",
   "id": "2f493225-3264-4ea5-ab2e-0d415107ba81",
   "metadata": {},
   "source": [
    "### web API"
   ]
  },
  {
   "cell_type": "code",
   "execution_count": null,
   "id": "9286df93-bb27-458e-8e26-947936cc6da1",
   "metadata": {},
   "outputs": [],
   "source": [
    "-All web services are APIs.\t\n",
    "-It supports XML.\t\n",
    "-You need a SOAP protocol to send or receive and data over the network. Therefore it does not have light-weight architecture.\n",
    "-It can be used by any client who understands XML.\n",
    "-Web service uses three styles: REST, SOAP, and XML-RPC for communication.\n",
    "-It provides supports only for the HTTP protocol.\t"
   ]
  },
  {
   "cell_type": "markdown",
   "id": "b7db93eb-141d-48e5-89c3-d3c2f40aade9",
   "metadata": {},
   "source": [
    "### API"
   ]
  },
  {
   "cell_type": "code",
   "execution_count": null,
   "id": "2a7ad992-e7a5-46d6-91ea-ce36268f2853",
   "metadata": {},
   "outputs": [],
   "source": [
    "-All APIs are not web services.\n",
    "-Responses are formatted using Web API’s MediaTypeFormatter into XML, JSON, or any other given format.\n",
    "-API has a light-weight architecture.\n",
    "-It can be used by a client who understands JSON or XML.\n",
    "-API can be used for any style of communication.\n",
    "-It provides support for the HTTP/s protocol: URL Request/Response Headers, etc."
   ]
  },
  {
   "cell_type": "markdown",
   "id": "75567e3c-ca8d-48ca-88d8-c02f262dea41",
   "metadata": {},
   "source": [
    "## 4.REST and SOAP "
   ]
  },
  {
   "cell_type": "code",
   "execution_count": null,
   "id": "42fa7d52-c73b-4a4d-8f16-04b5230ef03f",
   "metadata": {},
   "outputs": [],
   "source": [
    "REST is a set of guidelines that offers flexible implementation, whereas SOAP is a protocol with specific requirements like \n",
    "XML messaging. REST APIs are lightweight, making them ideal for newer contexts like the Internet of Things (IoT), mobile\n",
    "application development, and serverless computing."
   ]
  },
  {
   "cell_type": "markdown",
   "id": "7cca8cdc-9312-4950-b074-586a93fc98f1",
   "metadata": {},
   "source": [
    "### shortcomings of soap "
   ]
  },
  {
   "cell_type": "code",
   "execution_count": null,
   "id": "0dcd05ec-42e9-4ec5-a283-77af22ebd847",
   "metadata": {},
   "outputs": [],
   "source": [
    "Limitations of Soaps• Soaps do not wash well in hard water and does not form much lather or foam. The calcium magnesium or \n",
    "iron ions of hard water form an insoluble sticky grey coloured precipitate called scum which restricts the cleansing action of\n",
    "soap and makes washing more difficult."
   ]
  },
  {
   "cell_type": "markdown",
   "id": "5dbac72b-f738-458b-82f1-1c561c3c461a",
   "metadata": {},
   "source": [
    "## 5. difference between rest and soap"
   ]
  },
  {
   "cell_type": "markdown",
   "id": "8906e9df-ecf4-4bec-8c11-4a099a9b9cdf",
   "metadata": {},
   "source": [
    "### rest"
   ]
  },
  {
   "cell_type": "code",
   "execution_count": null,
   "id": "542677f8-4f02-4f87-bf9b-01bebbcc59a2",
   "metadata": {},
   "outputs": [],
   "source": [
    "-Rest API is implemented as it has no official standard at all because it is an architectural style.\n",
    "-REST APIs uses multiple standards like HTTP, JSON, URL, and XML for data communication and transfer.\n",
    "-As REST API deploys and uses multiple standards as stated above, so it takes fewer resources and bandwidth as compared to\n",
    " SOAP API.\n",
    "-REST API uses Web Application Description Language for describing the functionalities being offered by web services.\n",
    "-REST has SSL and HTTPS for security.\n",
    "-REST stands for Representational State Transfer.\n",
    "-REST can make use of SOAP as the underlying protocol for web services, because in the end it is just an architectural pattern."
   ]
  },
  {
   "cell_type": "markdown",
   "id": "41ea4959-f3ec-4524-8224-d9e864917d27",
   "metadata": {},
   "source": [
    "### soap"
   ]
  },
  {
   "cell_type": "code",
   "execution_count": null,
   "id": "b6c33274-9908-49c7-a01a-9b77c7a24049",
   "metadata": {},
   "outputs": [],
   "source": [
    "-On other hand SOAP API has an official standard because it is a protocol.\n",
    "-SOAP APIs is largely based and uses only HTTP and XML.\n",
    "-On other hand Soap API requires more resource and bandwidth as it needs to convert the data in XML which increases its \n",
    " payload and results in the large sized file.\n",
    "-On other hand SOAP API used Web Services Description language for the same.\n",
    "-On other hand SOAP has SSL( Secure Socket Layer) and WS-security due to which in the cases like Bank Account Password, Card\n",
    " Number, etc. SOAP is preferred over REST.\n",
    "-On other hand SOAP stands for Simple Object Access Protocol.\n",
    "-Difference between REST API and SOAP API."
   ]
  }
 ],
 "metadata": {
  "kernelspec": {
   "display_name": "Python 3 (ipykernel)",
   "language": "python",
   "name": "python3"
  },
  "language_info": {
   "codemirror_mode": {
    "name": "ipython",
    "version": 3
   },
   "file_extension": ".py",
   "mimetype": "text/x-python",
   "name": "python",
   "nbconvert_exporter": "python",
   "pygments_lexer": "ipython3",
   "version": "3.10.8"
  }
 },
 "nbformat": 4,
 "nbformat_minor": 5
}
